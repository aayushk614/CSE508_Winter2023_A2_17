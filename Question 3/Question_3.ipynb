{
  "nbformat": 4,
  "nbformat_minor": 0,
  "metadata": {
    "colab": {
      "provenance": []
    },
    "kernelspec": {
      "name": "python3",
      "display_name": "Python 3"
    },
    "language_info": {
      "name": "python"
    }
  },
  "cells": [
    {
      "cell_type": "code",
      "execution_count": 1,
      "metadata": {
        "id": "WSvnG2a58agq"
      },
      "outputs": [],
      "source": [
        "import math\n",
        "import pandas as pd\n",
        "import numpy as np\n",
        "import matplotlib.pyplot as plt\n",
        "from math import factorial as fact\n"
      ]
    },
    {
      "cell_type": "code",
      "source": [
        "#Importing google drive\n",
        "from google.colab import drive\n",
        "drive.mount('/content/drive')"
      ],
      "metadata": {
        "colab": {
          "base_uri": "https://localhost:8080/"
        },
        "id": "gCtKcmK10d-B",
        "outputId": "cb5bb6a3-581e-4244-c624-59597b6c904e"
      },
      "execution_count": null,
      "outputs": [
        {
          "output_type": "stream",
          "name": "stdout",
          "text": [
            "Mounted at /content/drive\n"
          ]
        }
      ]
    },
    {
      "cell_type": "markdown",
      "source": [
        "**Question 3**\n",
        "\n",
        "The dataset contains various queries and their associated URLs with relevance judgement\n",
        "labels as relevance scores.\n",
        "\n",
        "\n",
        "To complete this task, focus only on the queries with qid:4 and use the relevance judgement\n",
        "labels as the relevance score.\n",
        "\n",
        "\n",
        "The first objective is to create a file that rearranges the query-url pairs in order of the maximum\n",
        "DCG (discounted cumulative gain). The number of such files that could be made should also be\n",
        "stated.\n",
        "\n",
        "\n",
        "Next, compute the nDCG (normalized discounted cumulative gain) for the dataset. This involves\n",
        "calculating nDCG at position 50 and for the entire dataset.\n",
        "\n",
        "\n",
        "For the third objective, assume a model that ranks URLs based on the value of feature 75,\n",
        "which represents the sum of TF-IDF on the whole document. URLs with higher feature 75\n",
        "values are considered more relevant. Any non-zero relevance judgement value is considered\n",
        "relevant. \n",
        "\n",
        "Using this model, plot a Precision-Recall curve for the query \"qid:4\".\n",
        "The curve should help visualize the trade-off between precision and recall as the model's\n",
        "threshold for relevance is adjusted."
      ],
      "metadata": {
        "id": "qO0Lnq3u0h7m"
      }
    },
    {
      "cell_type": "code",
      "source": [
        "dataframe = pd.read_csv('/content/drive/MyDrive/IR-assignment-2-data (2).txt',sep=\" \",header=None)\n"
      ],
      "metadata": {
        "id": "4x0h79E54638"
      },
      "execution_count": null,
      "outputs": []
    },
    {
      "cell_type": "code",
      "source": [
        "print(dataframe)"
      ],
      "metadata": {
        "colab": {
          "base_uri": "https://localhost:8080/"
        },
        "id": "Zr931_LP4njN",
        "outputId": "bfd7c943-1959-4c33-db94-c9298c5732a9"
      },
      "execution_count": null,
      "outputs": [
        {
          "output_type": "stream",
          "name": "stdout",
          "text": [
            "        0          1    2    3    4    5    6    7          8           9    \\\n",
            "0         0      qid:4  1:3  2:0  3:2  4:0  5:3  6:1        7:0  8:0.666667   \n",
            "1         0      qid:4  1:3  2:0  3:3  4:0  5:3  6:1        7:0         8:1   \n",
            "2         0      qid:4  1:3  2:0  3:2  4:0  5:3  6:1        7:0  8:0.666667   \n",
            "3         0      qid:4  1:3  2:0  3:3  4:0  5:3  6:1        7:0         8:1   \n",
            "4         1      qid:4  1:3  2:0  3:3  4:0  5:3  6:1        7:0         8:1   \n",
            "...     ...        ...  ...  ...  ...  ...  ...  ...        ...         ...   \n",
            "239088    0  qid:29989  1:2  2:0  3:1  4:1  5:2  6:1        7:0   8:0.50000   \n",
            "239089    0  qid:29989  1:2  2:0  3:1  4:0  5:2  6:1        7:0   8:0.50000   \n",
            "239090    1  qid:29989  1:2  2:0  3:2  4:2  5:2  6:1        7:0         8:1   \n",
            "239091    1  qid:29989  1:2  2:0  3:2  4:0  5:2  6:1        7:0         8:1   \n",
            "239092    0  qid:29989  1:2  2:1  3:1  4:1  5:2  6:1  7:0.50000   8:0.50000   \n",
            "\n",
            "        ...       129     130        131        132      133      134    135  \\\n",
            "0       ...     128:2   129:9    130:124   131:4678   132:54   133:74  134:0   \n",
            "1       ...     128:0   129:8    130:122    131:508  132:131  133:136  134:0   \n",
            "2       ...     128:2   129:8    130:115    131:508   132:51   133:70  134:0   \n",
            "3       ...    128:82  129:17    130:122    131:508   132:83  133:107  134:0   \n",
            "4       ...    128:11   129:8    130:121    131:508  132:103  133:120  134:0   \n",
            "...     ...       ...     ...        ...        ...      ...      ...    ...   \n",
            "239088  ...  128:9754  129:29   130:2889  131:63571    132:1    133:1  134:0   \n",
            "239089  ...    128:84   129:1   130:9450  131:19599    132:4    133:4  134:0   \n",
            "239090  ...     128:1   129:0    130:144   131:6701    132:5    133:2  134:0   \n",
            "239091  ...     128:0  129:11   130:2152  131:65535   132:37   133:16  134:0   \n",
            "239092  ...   128:139  129:15  130:17062  131:65535    132:1    133:1  134:0   \n",
            "\n",
            "           136        137 138  \n",
            "0        135:0      136:0 NaN  \n",
            "1        135:0      136:0 NaN  \n",
            "2        135:0      136:0 NaN  \n",
            "3       135:10  136:13.35 NaN  \n",
            "4        135:0      136:0 NaN  \n",
            "...        ...        ...  ..  \n",
            "239088   135:0      136:0 NaN  \n",
            "239089   135:0      136:0 NaN  \n",
            "239090   135:0      136:0 NaN  \n",
            "239091   135:0      136:0 NaN  \n",
            "239092   135:0      136:0 NaN  \n",
            "\n",
            "[239093 rows x 139 columns]\n"
          ]
        }
      ]
    },
    {
      "cell_type": "markdown",
      "source": [
        "To complete this task, focus only on the queries with qid:4 and use the relevance judgement labels as the relevance score."
      ],
      "metadata": {
        "id": "nmYq5pNqGTvo"
      }
    },
    {
      "cell_type": "code",
      "source": [
        "file_dict = {}\n",
        "for i in range(0, len(dataframe.index)):\n",
        "    column_2_value = dataframe.at[i, 1]\n",
        "    if (column_2_value == \"qid:4\"):\n",
        "        file_dict[i] = dataframe.at[i, 0]"
      ],
      "metadata": {
        "id": "0Ci9Sy0h3NxB"
      },
      "execution_count": null,
      "outputs": []
    },
    {
      "cell_type": "code",
      "source": [
        "print(file_dict)"
      ],
      "metadata": {
        "colab": {
          "base_uri": "https://localhost:8080/"
        },
        "id": "qNEFPjqj3UX0",
        "outputId": "5d1db90f-2b79-440c-84cb-3d8477796f76"
      },
      "execution_count": null,
      "outputs": [
        {
          "output_type": "stream",
          "name": "stdout",
          "text": [
            "{0: 0, 1: 0, 2: 0, 3: 0, 4: 1, 5: 0, 6: 1, 7: 3, 8: 0, 9: 0, 10: 1, 11: 0, 12: 0, 13: 1, 14: 0, 15: 0, 16: 0, 17: 1, 18: 2, 19: 2, 20: 1, 21: 2, 22: 2, 23: 0, 24: 1, 25: 2, 26: 0, 27: 0, 28: 0, 29: 1, 30: 0, 31: 0, 32: 1, 33: 0, 34: 2, 35: 0, 36: 2, 37: 2, 38: 1, 39: 0, 40: 2, 41: 0, 42: 0, 43: 0, 44: 0, 45: 0, 46: 0, 47: 0, 48: 0, 49: 0, 50: 0, 51: 0, 52: 2, 53: 1, 54: 0, 55: 1, 56: 0, 57: 0, 58: 2, 59: 0, 60: 1, 61: 2, 62: 2, 63: 0, 64: 0, 65: 0, 66: 1, 67: 0, 68: 2, 69: 0, 70: 0, 71: 0, 72: 1, 73: 0, 74: 1, 75: 1, 76: 2, 77: 0, 78: 0, 79: 0, 80: 0, 81: 0, 82: 1, 83: 1, 84: 1, 85: 1, 86: 0, 87: 0, 88: 1, 89: 0, 90: 2, 91: 0, 92: 1, 93: 0, 94: 0, 95: 0, 96: 1, 97: 0, 98: 0, 99: 1, 100: 2, 101: 1, 102: 0}\n"
          ]
        }
      ]
    },
    {
      "cell_type": "code",
      "source": [
        "def save_query_url_file(dataframe, file_dict):\n",
        "    # Create a new dataframe with only the rows that correspond to files stored in file_dict\n",
        "    num_files = len(file_dict)\n",
        "    new_dataframe = dataframe.drop(dataframe.index[num_files:])\n",
        "    \n",
        "    # Save the contents of the new dataframe to a file\n",
        "    file_name = 'qid_4_file.txt'\n",
        "    np.savetxt(file_name, new_dataframe.values, delimiter=' ', fmt='%s')\n"
      ],
      "metadata": {
        "id": "Mu0QFaZ21DZH"
      },
      "execution_count": null,
      "outputs": []
    },
    {
      "cell_type": "code",
      "source": [
        "# Call the save_query_url_file function with the given dataframe and file database\n",
        "save_query_url_file(dataframe, file_dict)"
      ],
      "metadata": {
        "id": "5GWRDhYn6wU9"
      },
      "execution_count": null,
      "outputs": []
    },
    {
      "cell_type": "code",
      "source": [
        "# Convert the file database dictionary to a list of tuples\n",
        "file_tuples = list(file_dict.items())\n",
        "\n",
        "# Sort the list of tuples in descending order based on the values of the second item in each tuple\n",
        "# If the second items are equal, the first items are compared as a tiebreaker\n",
        "sorted_tuples = sorted(file_tuples, key=lambda pairs: (pairs[1], pairs[0]), reverse=True)\n",
        "\n",
        "# Update the file database with the sorted list of tuples\n",
        "file_database = sorted_tuples\n"
      ],
      "metadata": {
        "id": "Xs7kr_mX6bCm"
      },
      "execution_count": null,
      "outputs": []
    },
    {
      "cell_type": "code",
      "source": [
        "print(file_database)"
      ],
      "metadata": {
        "colab": {
          "base_uri": "https://localhost:8080/"
        },
        "id": "JSZDhDVX7g8j",
        "outputId": "e053c233-f5ac-4db7-834e-0756e8309678"
      },
      "execution_count": null,
      "outputs": [
        {
          "output_type": "stream",
          "name": "stdout",
          "text": [
            "[(7, 3), (100, 2), (90, 2), (76, 2), (68, 2), (62, 2), (61, 2), (58, 2), (52, 2), (40, 2), (37, 2), (36, 2), (34, 2), (25, 2), (22, 2), (21, 2), (19, 2), (18, 2), (101, 1), (99, 1), (96, 1), (92, 1), (88, 1), (85, 1), (84, 1), (83, 1), (82, 1), (75, 1), (74, 1), (72, 1), (66, 1), (60, 1), (55, 1), (53, 1), (38, 1), (32, 1), (29, 1), (24, 1), (20, 1), (17, 1), (13, 1), (10, 1), (6, 1), (4, 1), (102, 0), (98, 0), (97, 0), (95, 0), (94, 0), (93, 0), (91, 0), (89, 0), (87, 0), (86, 0), (81, 0), (80, 0), (79, 0), (78, 0), (77, 0), (73, 0), (71, 0), (70, 0), (69, 0), (67, 0), (65, 0), (64, 0), (63, 0), (59, 0), (57, 0), (56, 0), (54, 0), (51, 0), (50, 0), (49, 0), (48, 0), (47, 0), (46, 0), (45, 0), (44, 0), (43, 0), (42, 0), (41, 0), (39, 0), (35, 0), (33, 0), (31, 0), (30, 0), (28, 0), (27, 0), (26, 0), (23, 0), (16, 0), (15, 0), (14, 0), (12, 0), (11, 0), (9, 0), (8, 0), (5, 0), (3, 0), (2, 0), (1, 0), (0, 0)]\n"
          ]
        }
      ]
    },
    {
      "cell_type": "code",
      "source": [
        "\n",
        "def count_final(file_database):\n",
        "    # Initialize counters for each file type\n",
        "    num_type_1 = 0\n",
        "    num_type_2 = 0\n",
        "    num_type_3 = 0\n",
        "    num_type_4 = 0\n",
        "    \n",
        "    # Loop through the file database and count the number of files of each type\n",
        "    for file_tuple in file_database:\n",
        "        file_type = file_tuple[1]\n",
        "        if file_type == 1:\n",
        "            num_type_3 += 1\n",
        "        elif file_type == 2:\n",
        "            num_type_2 += 1\n",
        "        elif file_type == 3:\n",
        "            num_type_1 += 1\n",
        "        else:\n",
        "            num_type_4 += 1\n",
        "    \n",
        "    # Calculate the factorials of the file type counts and multiply them together to get the final answer\n",
        "    factorial_1 = fact(num_type_1)\n",
        "    factorial_2 = fact(num_type_2)\n",
        "    factorial_3 = fact(num_type_3)\n",
        "    factorial_4 = fact(num_type_4)\n",
        "    answer = factorial_1 * factorial_2 * factorial_3 * factorial_4\n",
        "    \n",
        "    return answer\n",
        "\n",
        "count_final(file_database)\n"
      ],
      "metadata": {
        "colab": {
          "base_uri": "https://localhost:8080/"
        },
        "id": "3ryRYqmz8ifK",
        "outputId": "3cff1cc7-a518-4885-fd96-b76bf7747d46"
      },
      "execution_count": null,
      "outputs": [
        {
          "output_type": "execute_result",
          "data": {
            "text/plain": [
              "19893497375938370599826047614905329896936840170566570588205180312704857992695193482412686565431050240000000000000000000000"
            ]
          },
          "metadata": {},
          "execution_count": 59
        }
      ]
    },
    {
      "cell_type": "markdown",
      "source": [
        "Next, compute the nDCG (normalized discounted cumulative gain) for the dataset. This involves calculating nDCG at position 50 and for the entire dataset."
      ],
      "metadata": {
        "id": "otpAdakC1tq0"
      }
    },
    {
      "cell_type": "code",
      "source": [
        "import math\n",
        "\n",
        "def calculate_score(files, num_files):\n",
        "    # Initialize the output score to the score of the first file\n",
        "    output_score = files[0][1]\n",
        "    \n",
        "    # Loop through the remaining files and calculate their contributions to the final score\n",
        "    for i in range(1, num_files):\n",
        "        file_score = files[i][1]\n",
        "        file_rank = i + 1\n",
        "        file_contribution = file_score / math.log2(file_rank)\n",
        "        output_score += file_contribution\n",
        "    \n",
        "    return output_score\n"
      ],
      "metadata": {
        "id": "vyro4y8K-NG2"
      },
      "execution_count": null,
      "outputs": []
    },
    {
      "cell_type": "code",
      "source": [
        "# Get the lengths of the two file sets\n",
        "num_files_a = len(file_database)\n",
        "num_files_b = len(file_tuples)\n",
        "\n",
        "# Calculate the nDCG score for all files in tupledocid, and the first 50 files\n",
        "nDCG_all_b = calculate_score(file_tuples, num_files_b)\n",
        "nDCG_top_50_b = calculate_score(file_tuples[:50], 50)\n",
        "\n",
        "# Calculate the maximum possible nDCG score for file_database, and the nDCG score for the first 50 files\n",
        "nDCG_max_a = calculate_score(file_database, num_files_a)\n",
        "nDCG_top_50_a = calculate_score(file_database[:50], 50)\n",
        "\n",
        "# Compute the nDCG scores for the two sets of files\n",
        "nDCG_50 = nDCG_top_50_b / nDCG_top_50_a\n",
        "nDCG_whole = nDCG_all_b / nDCG_max_a\n",
        "\n",
        "# Print the results\n",
        "print(\"nDCG at 50: {0:32}\".format(nDCG_50))\n",
        "print(\"nDCG for whole dataset: \", nDCG_whole)\n"
      ],
      "metadata": {
        "colab": {
          "base_uri": "https://localhost:8080/"
        },
        "id": "q8sAWWRf_UCL",
        "outputId": "3b2d72db-850d-4dc6-fd2f-0c03a8212fce"
      },
      "execution_count": null,
      "outputs": [
        {
          "output_type": "stream",
          "name": "stdout",
          "text": [
            "nDCG at 50:               0.3521042740324887\n",
            "nDCG for whole dataset:  0.5979226516897831\n"
          ]
        }
      ]
    },
    {
      "cell_type": "markdown",
      "source": [
        "For the third objective, assume a model that ranks URLs based on the value of feature 75, which represents the sum of TF-IDF on the whole document. URLs with higher feature 75 values are considered more relevant. Any non-zero relevance judgement value is considered relevant.\n",
        "\n"
      ],
      "metadata": {
        "id": "H2oLOoPl2Wre"
      }
    },
    {
      "cell_type": "code",
      "source": [
        "def extract_data(df, filedatabase):\n",
        "    # loop through the rows of the DataFrame\n",
        "    for i in range(len(df.index)):\n",
        "        # check if the value in the second column equals \"qid:4\"\n",
        "        if df.at[i, 1] == \"qid:4\":\n",
        "            # extract a value from the 77th column and convert it to a float\n",
        "            score = float(df.at[i, 76][3:])\n",
        "            # get the value from the first column of the row\n",
        "            doc_id = df.at[i, 0]\n",
        "            # store the score and doc_id as a tuple in the filedatabase dictionary\n",
        "            filedatabase[i] = (score, doc_id)\n"
      ],
      "metadata": {
        "id": "43ktCnfUBkT6"
      },
      "execution_count": null,
      "outputs": []
    },
    {
      "cell_type": "markdown",
      "source": [
        "Using this model, plot a Precision-Recall curve for the query \"qid:4\". The curve should help visualize the trade-off between precision and recall as the model's threshold for relevance is adjusted."
      ],
      "metadata": {
        "id": "beP4th452ZlY"
      }
    },
    {
      "cell_type": "code",
      "source": [
        "def plot_PR(query_url_pair):\n",
        "    xaxis=[]\n",
        "    yaxis=[]\n",
        "    sorted_pairs = sorted(query_url_pair.items(),key=lambda pairs:(pairs[1],pairs[0]),reverse=True)\n",
        "    doc1 = 103\n",
        "    doc2 = 74\n",
        "    doc3 = 0 \n",
        "\n",
        "    tfsort = len(sorted_pairs)\n",
        "    for i in range(0,tfsort):\n",
        "        if (sorted_pairs[i][1][1] != 0):\n",
        "            doc3 += 1\n",
        "        precision = doc3/(i+1)\n",
        "        yaxis.append(precision)\n",
        "        recall = doc3/doc2\n",
        "        xaxis.append(recall)\n",
        "\n",
        "    plt.plot(xaxis, yaxis, color='red', linewidth=3)\n",
        "    plt.title('Precision-Recall Curve')\n",
        "    plt.ylabel('Precision')\n",
        "    plt.xlabel('Recall')\n",
        "    plt.show()\n"
      ],
      "metadata": {
        "id": "sl9NZ-MXA64u"
      },
      "execution_count": null,
      "outputs": []
    },
    {
      "cell_type": "code",
      "source": [
        "query_url_pair = {}\n",
        "extract_data(dataframe, query_url_pair)"
      ],
      "metadata": {
        "id": "cpgrPHUDHNkO"
      },
      "execution_count": null,
      "outputs": []
    },
    {
      "cell_type": "code",
      "source": [
        "plot_PR(query_url_pair)"
      ],
      "metadata": {
        "colab": {
          "base_uri": "https://localhost:8080/",
          "height": 295
        },
        "id": "N3m817r3Ckqn",
        "outputId": "3c3ddd69-f5a0-49f3-ead5-e88c3ed3432e"
      },
      "execution_count": null,
      "outputs": [
        {
          "output_type": "display_data",
          "data": {
            "text/plain": [
              "<Figure size 432x288 with 1 Axes>"
            ],
            "image/png": "[encoded data removed]"
          },
          "metadata": {
            "needs_background": "light"
          }
        }
      ]
    },
    {
      "cell_type": "code",
      "source": [],
      "metadata": {
        "id": "PbOWgo8w1N0z"
      },
      "execution_count": null,
      "outputs": []
    }
  ]
}